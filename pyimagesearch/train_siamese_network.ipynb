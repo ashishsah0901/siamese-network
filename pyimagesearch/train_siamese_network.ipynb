{
 "cells": [
  {
   "cell_type": "code",
   "execution_count": 12,
   "id": "36838718",
   "metadata": {},
   "outputs": [],
   "source": [
    "from ipynb.fs.full.siamese_network import build_siamese_model\n",
    "import ipynb.fs.full.config as config\n",
    "import ipynb.fs.full.utils as utils\n",
    "from tensorflow.keras.models import Model\n",
    "from tensorflow.keras.layers import Dense\n",
    "from tensorflow.keras.layers import Input\n",
    "from tensorflow.keras.layers import Lambda\n",
    "from tensorflow.keras.datasets import mnist\n",
    "import numpy as np"
   ]
  },
  {
   "cell_type": "code",
   "execution_count": 4,
   "id": "90f3ec32",
   "metadata": {},
   "outputs": [
    {
     "name": "stdout",
     "output_type": "stream",
     "text": [
      "[INFO] loading MNIST dataset...\n",
      "[INFO] preparing positive and negative pairs...\n"
     ]
    }
   ],
   "source": [
    "print(\"[INFO] loading MNIST dataset...\")\n",
    "(trainX, trainY), (testX, testY) = mnist.load_data()\n",
    "trainX = trainX / 255.0\n",
    "testX = testX / 255.0\n",
    "trainX = np.expand_dims(trainX, axis=-1)\n",
    "testX = np.expand_dims(testX, axis=-1)\n",
    "print(\"[INFO] preparing positive and negative pairs...\")\n",
    "(pairTrain, labelTrain) = utils.make_pairs(trainX, trainY)\n",
    "(pairTest, labelTest) = utils.make_pairs(testX, testY)"
   ]
  },
  {
   "cell_type": "code",
   "execution_count": 5,
   "id": "b7859768",
   "metadata": {},
   "outputs": [
    {
     "name": "stdout",
     "output_type": "stream",
     "text": [
      "[INFO] building siamese network...\n"
     ]
    }
   ],
   "source": [
    "print(\"[INFO] building siamese network...\")\n",
    "imgA = Input(shape=config.IMG_SHAPE)\n",
    "imgB = Input(shape=config.IMG_SHAPE)\n",
    "featureExtractor = build_siamese_model(config.IMG_SHAPE)\n",
    "featsA = featureExtractor(imgA)\n",
    "featsB = featureExtractor(imgB)"
   ]
  },
  {
   "cell_type": "code",
   "execution_count": 6,
   "id": "5c3c65a6",
   "metadata": {},
   "outputs": [],
   "source": [
    "distance = Lambda(utils.euclidean_distance)([featsA, featsB])\n",
    "outputs = Dense(1, activation=\"sigmoid\")(distance)\n",
    "model = Model(inputs=[imgA, imgB], outputs=outputs)"
   ]
  },
  {
   "cell_type": "code",
   "execution_count": 7,
   "id": "bce88e6c",
   "metadata": {
    "scrolled": false
   },
   "outputs": [
    {
     "name": "stdout",
     "output_type": "stream",
     "text": [
      "[INFO] compiling model...\n",
      "[INFO] training model...\n",
      "Epoch 1/100\n",
      "1875/1875 [==============================] - 368s 193ms/step - loss: 0.6933 - accuracy: 0.4980 - val_loss: 0.6932 - val_accuracy: 0.5000\n",
      "Epoch 2/100\n",
      "1875/1875 [==============================] - 379s 202ms/step - loss: 0.6932 - accuracy: 0.4989 - val_loss: 0.6933 - val_accuracy: 0.5000\n",
      "Epoch 3/100\n",
      "1875/1875 [==============================] - 401s 214ms/step - loss: 0.6932 - accuracy: 0.5009 - val_loss: 0.6932 - val_accuracy: 0.5000\n",
      "Epoch 4/100\n",
      "1875/1875 [==============================] - 413s 220ms/step - loss: 0.6932 - accuracy: 0.4977 - val_loss: 0.6931 - val_accuracy: 0.5000\n",
      "Epoch 5/100\n",
      "1875/1875 [==============================] - 408s 218ms/step - loss: 0.6932 - accuracy: 0.4978 - val_loss: 0.6932 - val_accuracy: 0.5000\n",
      "Epoch 6/100\n",
      "1875/1875 [==============================] - 421s 225ms/step - loss: 0.6932 - accuracy: 0.4992 - val_loss: 0.6932 - val_accuracy: 0.5000\n",
      "Epoch 7/100\n",
      "1875/1875 [==============================] - 425s 227ms/step - loss: 0.6932 - accuracy: 0.4980 - val_loss: 0.6931 - val_accuracy: 0.5000\n",
      "Epoch 8/100\n",
      "1875/1875 [==============================] - 429s 229ms/step - loss: 0.6932 - accuracy: 0.4997 - val_loss: 0.6932 - val_accuracy: 0.5000\n",
      "Epoch 9/100\n",
      "1875/1875 [==============================] - 420s 224ms/step - loss: 0.6932 - accuracy: 0.4989 - val_loss: 0.6931 - val_accuracy: 0.5000\n",
      "Epoch 10/100\n",
      "1875/1875 [==============================] - 425s 227ms/step - loss: 0.6932 - accuracy: 0.4979 - val_loss: 0.6931 - val_accuracy: 0.5000\n",
      "Epoch 11/100\n",
      "1875/1875 [==============================] - 422s 225ms/step - loss: 0.6932 - accuracy: 0.5020 - val_loss: 0.6932 - val_accuracy: 0.5000\n",
      "Epoch 12/100\n",
      "1875/1875 [==============================] - 422s 225ms/step - loss: 0.6932 - accuracy: 0.4969 - val_loss: 0.6931 - val_accuracy: 0.5000\n",
      "Epoch 13/100\n",
      "1875/1875 [==============================] - 428s 228ms/step - loss: 0.6932 - accuracy: 0.4980 - val_loss: 0.6932 - val_accuracy: 0.5000\n",
      "Epoch 14/100\n",
      "1875/1875 [==============================] - 429s 229ms/step - loss: 0.6932 - accuracy: 0.4996 - val_loss: 0.6932 - val_accuracy: 0.5000\n",
      "Epoch 15/100\n",
      "1875/1875 [==============================] - 420s 224ms/step - loss: 0.6932 - accuracy: 0.5001 - val_loss: 0.6932 - val_accuracy: 0.5000\n",
      "Epoch 16/100\n",
      "1875/1875 [==============================] - 406s 217ms/step - loss: 0.6932 - accuracy: 0.5029 - val_loss: 0.6932 - val_accuracy: 0.5000\n",
      "Epoch 17/100\n",
      "1875/1875 [==============================] - 402s 214ms/step - loss: 0.6932 - accuracy: 0.5006 - val_loss: 0.6931 - val_accuracy: 0.5000\n",
      "Epoch 18/100\n",
      "1875/1875 [==============================] - 403s 215ms/step - loss: 0.6932 - accuracy: 0.4978 - val_loss: 0.6932 - val_accuracy: 0.5000\n",
      "Epoch 19/100\n",
      "1875/1875 [==============================] - 407s 217ms/step - loss: 0.6932 - accuracy: 0.4992 - val_loss: 0.6931 - val_accuracy: 0.5000\n",
      "Epoch 20/100\n",
      "1875/1875 [==============================] - 409s 218ms/step - loss: 0.6932 - accuracy: 0.4988 - val_loss: 0.6932 - val_accuracy: 0.5000\n",
      "Epoch 21/100\n",
      "1875/1875 [==============================] - 402s 214ms/step - loss: 0.6932 - accuracy: 0.4991 - val_loss: 0.6932 - val_accuracy: 0.5000\n",
      "Epoch 22/100\n",
      "1875/1875 [==============================] - 403s 215ms/step - loss: 0.6932 - accuracy: 0.5005 - val_loss: 0.6931 - val_accuracy: 0.5000\n",
      "Epoch 23/100\n",
      "1875/1875 [==============================] - 404s 216ms/step - loss: 0.6932 - accuracy: 0.5004 - val_loss: 0.6932 - val_accuracy: 0.5000\n",
      "Epoch 24/100\n",
      "1875/1875 [==============================] - 402s 214ms/step - loss: 0.6932 - accuracy: 0.4997 - val_loss: 0.6932 - val_accuracy: 0.5000\n",
      "Epoch 25/100\n",
      "1875/1875 [==============================] - 404s 216ms/step - loss: 0.6932 - accuracy: 0.4972 - val_loss: 0.6931 - val_accuracy: 0.5000\n",
      "Epoch 26/100\n",
      "1875/1875 [==============================] - 409s 218ms/step - loss: 0.6932 - accuracy: 0.4976 - val_loss: 0.6931 - val_accuracy: 0.5000\n",
      "Epoch 27/100\n",
      "1875/1875 [==============================] - 407s 217ms/step - loss: 0.6932 - accuracy: 0.4987 - val_loss: 0.6931 - val_accuracy: 0.5000\n",
      "Epoch 28/100\n",
      "1875/1875 [==============================] - 406s 217ms/step - loss: 0.6932 - accuracy: 0.4994 - val_loss: 0.6931 - val_accuracy: 0.5000\n",
      "Epoch 29/100\n",
      "1875/1875 [==============================] - 404s 215ms/step - loss: 0.6932 - accuracy: 0.4997 - val_loss: 0.6931 - val_accuracy: 0.5000\n",
      "Epoch 30/100\n",
      "1875/1875 [==============================] - 403s 215ms/step - loss: 0.6932 - accuracy: 0.4961 - val_loss: 0.6931 - val_accuracy: 0.5000\n",
      "Epoch 31/100\n",
      "1875/1875 [==============================] - 398s 212ms/step - loss: 0.6932 - accuracy: 0.4978 - val_loss: 0.6931 - val_accuracy: 0.5000\n",
      "Epoch 32/100\n",
      "1875/1875 [==============================] - 400s 213ms/step - loss: 0.6932 - accuracy: 0.4984 - val_loss: 0.6931 - val_accuracy: 0.5000\n",
      "Epoch 33/100\n",
      "1875/1875 [==============================] - 404s 216ms/step - loss: 0.6932 - accuracy: 0.4996 - val_loss: 0.6931 - val_accuracy: 0.5000\n",
      "Epoch 34/100\n",
      "1875/1875 [==============================] - 406s 216ms/step - loss: 0.6932 - accuracy: 0.4976 - val_loss: 0.6931 - val_accuracy: 0.5000\n",
      "Epoch 35/100\n",
      "1875/1875 [==============================] - 416s 222ms/step - loss: 0.6932 - accuracy: 0.5003 - val_loss: 0.6932 - val_accuracy: 0.5000\n",
      "Epoch 36/100\n",
      "1875/1875 [==============================] - 414s 221ms/step - loss: 0.6932 - accuracy: 0.4980 - val_loss: 0.6932 - val_accuracy: 0.5000\n",
      "Epoch 37/100\n",
      "1875/1875 [==============================] - 420s 224ms/step - loss: 0.6932 - accuracy: 0.5003 - val_loss: 0.6932 - val_accuracy: 0.5000\n",
      "Epoch 38/100\n",
      "1875/1875 [==============================] - 410s 219ms/step - loss: 0.6932 - accuracy: 0.4994 - val_loss: 0.6932 - val_accuracy: 0.5000\n",
      "Epoch 39/100\n",
      "1875/1875 [==============================] - 407s 217ms/step - loss: 0.6932 - accuracy: 0.5011 - val_loss: 0.6931 - val_accuracy: 0.5000\n",
      "Epoch 40/100\n",
      "1875/1875 [==============================] - 409s 218ms/step - loss: 0.6932 - accuracy: 0.5001 - val_loss: 0.6932 - val_accuracy: 0.5000\n",
      "Epoch 41/100\n",
      "1875/1875 [==============================] - 409s 218ms/step - loss: 0.6932 - accuracy: 0.4989 - val_loss: 0.6932 - val_accuracy: 0.5000\n",
      "Epoch 42/100\n",
      "1875/1875 [==============================] - 405s 216ms/step - loss: 0.6932 - accuracy: 0.4988 - val_loss: 0.6932 - val_accuracy: 0.5000\n",
      "Epoch 43/100\n",
      "1875/1875 [==============================] - 406s 217ms/step - loss: 0.6932 - accuracy: 0.4971 - val_loss: 0.6932 - val_accuracy: 0.5000\n",
      "Epoch 44/100\n",
      "1875/1875 [==============================] - 400s 213ms/step - loss: 0.6932 - accuracy: 0.4983 - val_loss: 0.6931 - val_accuracy: 0.5000\n",
      "Epoch 45/100\n",
      "1875/1875 [==============================] - 400s 213ms/step - loss: 0.6932 - accuracy: 0.5019 - val_loss: 0.6932 - val_accuracy: 0.5000\n",
      "Epoch 46/100\n",
      "1875/1875 [==============================] - 404s 215ms/step - loss: 0.6932 - accuracy: 0.4999 - val_loss: 0.6931 - val_accuracy: 0.5000\n",
      "Epoch 47/100\n",
      "1875/1875 [==============================] - 402s 214ms/step - loss: 0.6932 - accuracy: 0.4986 - val_loss: 0.6931 - val_accuracy: 0.5000\n",
      "Epoch 48/100\n",
      "1875/1875 [==============================] - 402s 214ms/step - loss: 0.6932 - accuracy: 0.4975 - val_loss: 0.6931 - val_accuracy: 0.5000\n",
      "Epoch 49/100\n",
      "1875/1875 [==============================] - 406s 217ms/step - loss: 0.6932 - accuracy: 0.5004 - val_loss: 0.6932 - val_accuracy: 0.5000\n",
      "Epoch 50/100\n",
      "1875/1875 [==============================] - 413s 220ms/step - loss: 0.6932 - accuracy: 0.4963 - val_loss: 0.6931 - val_accuracy: 0.5000\n",
      "Epoch 51/100\n",
      "1875/1875 [==============================] - 402s 214ms/step - loss: 0.6931 - accuracy: 0.5021 - val_loss: 0.6933 - val_accuracy: 0.5000\n",
      "Epoch 52/100\n",
      "1875/1875 [==============================] - 406s 216ms/step - loss: 0.6932 - accuracy: 0.5016 - val_loss: 0.6932 - val_accuracy: 0.5000\n",
      "Epoch 53/100\n",
      "1875/1875 [==============================] - 403s 215ms/step - loss: 0.6932 - accuracy: 0.4994 - val_loss: 0.6931 - val_accuracy: 0.5000\n",
      "Epoch 54/100\n",
      "1875/1875 [==============================] - 403s 215ms/step - loss: 0.6932 - accuracy: 0.4998 - val_loss: 0.6931 - val_accuracy: 0.5000\n",
      "Epoch 55/100\n",
      "1875/1875 [==============================] - 383s 204ms/step - loss: 0.6932 - accuracy: 0.4998 - val_loss: 0.6931 - val_accuracy: 0.5000\n",
      "Epoch 56/100\n",
      "1875/1875 [==============================] - 391s 208ms/step - loss: 0.6932 - accuracy: 0.5003 - val_loss: 0.6932 - val_accuracy: 0.5000\n",
      "Epoch 57/100\n",
      "1875/1875 [==============================] - 392s 209ms/step - loss: 0.6932 - accuracy: 0.4983 - val_loss: 0.6931 - val_accuracy: 0.5000\n",
      "Epoch 58/100\n",
      "1875/1875 [==============================] - 390s 208ms/step - loss: 0.6932 - accuracy: 0.4998 - val_loss: 0.6931 - val_accuracy: 0.5000\n",
      "Epoch 59/100\n",
      "1875/1875 [==============================] - 397s 212ms/step - loss: 0.6932 - accuracy: 0.5001 - val_loss: 0.6932 - val_accuracy: 0.5000\n",
      "Epoch 60/100\n",
      "1875/1875 [==============================] - 389s 208ms/step - loss: 0.6932 - accuracy: 0.4994 - val_loss: 0.6931 - val_accuracy: 0.5000\n",
      "Epoch 61/100\n",
      "1875/1875 [==============================] - 400s 213ms/step - loss: 0.6932 - accuracy: 0.5009 - val_loss: 0.6932 - val_accuracy: 0.5000\n",
      "Epoch 62/100\n",
      "1875/1875 [==============================] - 392s 209ms/step - loss: 0.6932 - accuracy: 0.5000 - val_loss: 0.6932 - val_accuracy: 0.5000\n",
      "Epoch 63/100\n",
      "1875/1875 [==============================] - 391s 209ms/step - loss: 0.6932 - accuracy: 0.4983 - val_loss: 0.6932 - val_accuracy: 0.5000\n",
      "Epoch 64/100\n",
      "1875/1875 [==============================] - 392s 209ms/step - loss: 0.6932 - accuracy: 0.4989 - val_loss: 0.6932 - val_accuracy: 0.5000\n",
      "Epoch 65/100\n",
      "1875/1875 [==============================] - 393s 209ms/step - loss: 0.6932 - accuracy: 0.4985 - val_loss: 0.6931 - val_accuracy: 0.5000\n",
      "Epoch 66/100\n",
      "1875/1875 [==============================] - 387s 206ms/step - loss: 0.6932 - accuracy: 0.4990 - val_loss: 0.6932 - val_accuracy: 0.5000\n",
      "Epoch 67/100\n",
      "1875/1875 [==============================] - 393s 210ms/step - loss: 0.6932 - accuracy: 0.5003 - val_loss: 0.6932 - val_accuracy: 0.5000\n",
      "Epoch 68/100\n",
      "1875/1875 [==============================] - 393s 210ms/step - loss: 0.6932 - accuracy: 0.4970 - val_loss: 0.6932 - val_accuracy: 0.5000\n",
      "Epoch 69/100\n",
      "1875/1875 [==============================] - 393s 210ms/step - loss: 0.6932 - accuracy: 0.4991 - val_loss: 0.6932 - val_accuracy: 0.5000\n",
      "Epoch 70/100\n",
      "1875/1875 [==============================] - 393s 210ms/step - loss: 0.6932 - accuracy: 0.5011 - val_loss: 0.6932 - val_accuracy: 0.5000\n",
      "Epoch 71/100\n",
      "1875/1875 [==============================] - 388s 207ms/step - loss: 0.6932 - accuracy: 0.4994 - val_loss: 0.6932 - val_accuracy: 0.5000\n",
      "Epoch 72/100\n",
      "1875/1875 [==============================] - 390s 208ms/step - loss: 0.6932 - accuracy: 0.4983 - val_loss: 0.6932 - val_accuracy: 0.5000\n",
      "Epoch 73/100\n",
      "1875/1875 [==============================] - 392s 209ms/step - loss: 0.6932 - accuracy: 0.4982 - val_loss: 0.6931 - val_accuracy: 0.5000\n",
      "Epoch 74/100\n",
      "1875/1875 [==============================] - 387s 206ms/step - loss: 0.6932 - accuracy: 0.4993 - val_loss: 0.6932 - val_accuracy: 0.5000\n",
      "Epoch 75/100\n",
      "1875/1875 [==============================] - 387s 206ms/step - loss: 0.6932 - accuracy: 0.4985 - val_loss: 0.6932 - val_accuracy: 0.5000\n",
      "Epoch 76/100\n",
      "1875/1875 [==============================] - 387s 206ms/step - loss: 0.6932 - accuracy: 0.5007 - val_loss: 0.6932 - val_accuracy: 0.5000\n",
      "Epoch 77/100\n",
      "1875/1875 [==============================] - 389s 207ms/step - loss: 0.6932 - accuracy: 0.4986 - val_loss: 0.6932 - val_accuracy: 0.5000\n",
      "Epoch 78/100\n",
      "1875/1875 [==============================] - 394s 210ms/step - loss: 0.6932 - accuracy: 0.4992 - val_loss: 0.6932 - val_accuracy: 0.5000\n",
      "Epoch 79/100\n",
      "1875/1875 [==============================] - 395s 211ms/step - loss: 0.6932 - accuracy: 0.5013 - val_loss: 0.6932 - val_accuracy: 0.5000\n",
      "Epoch 80/100\n",
      "1875/1875 [==============================] - 394s 210ms/step - loss: 0.6932 - accuracy: 0.4997 - val_loss: 0.6931 - val_accuracy: 0.5000\n",
      "Epoch 81/100\n",
      "1875/1875 [==============================] - 391s 208ms/step - loss: 0.6932 - accuracy: 0.5003 - val_loss: 0.6932 - val_accuracy: 0.5000\n",
      "Epoch 82/100\n",
      "1875/1875 [==============================] - 391s 209ms/step - loss: 0.6932 - accuracy: 0.4995 - val_loss: 0.6932 - val_accuracy: 0.5000\n",
      "Epoch 83/100\n",
      "1875/1875 [==============================] - 397s 212ms/step - loss: 0.6932 - accuracy: 0.5010 - val_loss: 0.6932 - val_accuracy: 0.5000\n",
      "Epoch 84/100\n",
      "1875/1875 [==============================] - 398s 212ms/step - loss: 0.6932 - accuracy: 0.4981 - val_loss: 0.6931 - val_accuracy: 0.5000\n",
      "Epoch 85/100\n",
      "1875/1875 [==============================] - 397s 212ms/step - loss: 0.6932 - accuracy: 0.4997 - val_loss: 0.6931 - val_accuracy: 0.5000\n",
      "Epoch 86/100\n",
      "1875/1875 [==============================] - 391s 209ms/step - loss: 0.6932 - accuracy: 0.4974 - val_loss: 0.6931 - val_accuracy: 0.5000\n",
      "Epoch 87/100\n",
      "1875/1875 [==============================] - 394s 210ms/step - loss: 0.6932 - accuracy: 0.5023 - val_loss: 0.6932 - val_accuracy: 0.5000\n",
      "Epoch 88/100\n",
      "1875/1875 [==============================] - 391s 208ms/step - loss: 0.6932 - accuracy: 0.4967 - val_loss: 0.6932 - val_accuracy: 0.5000\n",
      "Epoch 89/100\n",
      "1875/1875 [==============================] - 385s 205ms/step - loss: 0.6932 - accuracy: 0.4994 - val_loss: 0.6931 - val_accuracy: 0.5000\n",
      "Epoch 90/100\n",
      "1875/1875 [==============================] - 388s 207ms/step - loss: 0.6932 - accuracy: 0.5000 - val_loss: 0.6931 - val_accuracy: 0.5000\n",
      "Epoch 91/100\n",
      "1875/1875 [==============================] - 388s 207ms/step - loss: 0.6932 - accuracy: 0.4997 - val_loss: 0.6931 - val_accuracy: 0.5000\n",
      "Epoch 92/100\n",
      "1875/1875 [==============================] - 392s 209ms/step - loss: 0.6932 - accuracy: 0.4998 - val_loss: 0.6931 - val_accuracy: 0.5000\n",
      "Epoch 93/100\n",
      "1875/1875 [==============================] - 389s 207ms/step - loss: 0.6932 - accuracy: 0.4983 - val_loss: 0.6931 - val_accuracy: 0.5000\n",
      "Epoch 94/100\n",
      "1875/1875 [==============================] - 392s 209ms/step - loss: 0.6932 - accuracy: 0.4978 - val_loss: 0.6932 - val_accuracy: 0.5000\n",
      "Epoch 95/100\n",
      "1875/1875 [==============================] - 394s 210ms/step - loss: 0.6932 - accuracy: 0.5010 - val_loss: 0.6932 - val_accuracy: 0.5000\n",
      "Epoch 96/100\n",
      "1875/1875 [==============================] - 397s 211ms/step - loss: 0.6932 - accuracy: 0.4999 - val_loss: 0.6932 - val_accuracy: 0.5000\n",
      "Epoch 97/100\n",
      "1875/1875 [==============================] - 395s 210ms/step - loss: 0.6932 - accuracy: 0.4974 - val_loss: 0.6932 - val_accuracy: 0.5000\n",
      "Epoch 98/100\n",
      "1875/1875 [==============================] - 390s 208ms/step - loss: 0.6932 - accuracy: 0.4997 - val_loss: 0.6931 - val_accuracy: 0.5000\n",
      "Epoch 99/100\n",
      "1875/1875 [==============================] - 391s 209ms/step - loss: 0.6932 - accuracy: 0.4990 - val_loss: 0.6932 - val_accuracy: 0.5000\n",
      "Epoch 100/100\n",
      "1875/1875 [==============================] - 394s 210ms/step - loss: 0.6932 - accuracy: 0.4997 - val_loss: 0.6932 - val_accuracy: 0.5000\n",
      "[INFO] saving siamese model...\n"
     ]
    },
    {
     "ename": "AttributeError",
     "evalue": "module 'ipynb.fs.full.config' has no attribute 'MODEL_PATH'",
     "output_type": "error",
     "traceback": [
      "\u001b[1;31m---------------------------------------------------------------------------\u001b[0m",
      "\u001b[1;31mAttributeError\u001b[0m                            Traceback (most recent call last)",
      "Input \u001b[1;32mIn [7]\u001b[0m, in \u001b[0;36m<cell line: 10>\u001b[1;34m()\u001b[0m\n\u001b[0;32m      4\u001b[0m history \u001b[38;5;241m=\u001b[39m model\u001b[38;5;241m.\u001b[39mfit([pairTrain[:, \u001b[38;5;241m0\u001b[39m], pairTrain[:, \u001b[38;5;241m1\u001b[39m]], labelTrain[:],\n\u001b[0;32m      5\u001b[0m \tvalidation_data\u001b[38;5;241m=\u001b[39m([pairTest[:, \u001b[38;5;241m0\u001b[39m], pairTest[:, \u001b[38;5;241m1\u001b[39m]], labelTest[:]),\n\u001b[0;32m      6\u001b[0m \tbatch_size\u001b[38;5;241m=\u001b[39mconfig\u001b[38;5;241m.\u001b[39mBATCH_SIZE, \n\u001b[0;32m      7\u001b[0m \tepochs\u001b[38;5;241m=\u001b[39mconfig\u001b[38;5;241m.\u001b[39mEPOCHS\n\u001b[0;32m      8\u001b[0m )\n\u001b[0;32m      9\u001b[0m \u001b[38;5;28mprint\u001b[39m(\u001b[38;5;124m\"\u001b[39m\u001b[38;5;124m[INFO] saving siamese model...\u001b[39m\u001b[38;5;124m\"\u001b[39m)\n\u001b[1;32m---> 10\u001b[0m model\u001b[38;5;241m.\u001b[39msave(\u001b[43mconfig\u001b[49m\u001b[38;5;241;43m.\u001b[39;49m\u001b[43mMODEL_PATH\u001b[49m)\n\u001b[0;32m     11\u001b[0m \u001b[38;5;28mprint\u001b[39m(\u001b[38;5;124m\"\u001b[39m\u001b[38;5;124m[INFO] plotting training history...\u001b[39m\u001b[38;5;124m\"\u001b[39m)\n\u001b[0;32m     12\u001b[0m utils\u001b[38;5;241m.\u001b[39mplot_training(history, config\u001b[38;5;241m.\u001b[39mPLOT_PATH)\n",
      "\u001b[1;31mAttributeError\u001b[0m: module 'ipynb.fs.full.config' has no attribute 'MODEL_PATH'"
     ]
    }
   ],
   "source": [
    "print(\"[INFO] compiling model...\")\n",
    "model.compile(loss=\"binary_crossentropy\", optimizer=\"adam\", metrics=[\"accuracy\"])\n",
    "print(\"[INFO] training model...\")\n",
    "history = model.fit([pairTrain[:, 0], pairTrain[:, 1]], labelTrain[:],\n",
    "    validation_data=([pairTest[:, 0], pairTest[:, 1]], labelTest[:]),\n",
    "    batch_size=config.BATCH_SIZE, \n",
    "    epochs=config.EPOCHS\n",
    ")"
   ]
  },
  {
   "cell_type": "code",
   "execution_count": 13,
   "id": "9ffe068f",
   "metadata": {},
   "outputs": [],
   "source": [
    "import os\n",
    "IMG_SHAPE = (28, 28, 1)\n",
    "BATCH_SIZE = 64\n",
    "EPOCHS = 100\n",
    "BASE_OUTPUT = \"output\"\n",
    "MODEL_PATH = os.path.sep.join([BASE_OUTPUT, \"siamese_model\"])\n",
    "PLOT_PATH = os.path.sep.join([BASE_OUTPUT, \"plot.png\"])"
   ]
  },
  {
   "cell_type": "code",
   "execution_count": 15,
   "id": "44f05192",
   "metadata": {},
   "outputs": [
    {
     "name": "stdout",
     "output_type": "stream",
     "text": [
      "[INFO] saving siamese model...\n"
     ]
    },
    {
     "name": "stderr",
     "output_type": "stream",
     "text": [
      "WARNING:absl:Found untraced functions such as _jit_compiled_convolution_op, _jit_compiled_convolution_op while saving (showing 2 of 2). These functions will not be directly callable after loading.\n"
     ]
    },
    {
     "name": "stdout",
     "output_type": "stream",
     "text": [
      "INFO:tensorflow:Assets written to: output\\siamese_model\\assets\n"
     ]
    },
    {
     "name": "stderr",
     "output_type": "stream",
     "text": [
      "INFO:tensorflow:Assets written to: output\\siamese_model\\assets\n"
     ]
    },
    {
     "name": "stdout",
     "output_type": "stream",
     "text": [
      "[INFO] plotting training history...\n"
     ]
    },
    {
     "data": {
      "image/png": "[encoded data removed]",
      "text/plain": [
       "<Figure size 432x288 with 1 Axes>"
      ]
     },
     "metadata": {},
     "output_type": "display_data"
    }
   ],
   "source": [
    "print(\"[INFO] saving siamese model...\")\n",
    "model.save(MODEL_PATH)\n",
    "print(\"[INFO] plotting training history...\")\n",
    "utils.plot_training(history, PLOT_PATH)"
   ]
  },
  {
   "cell_type": "code",
   "execution_count": null,
   "id": "b851d1e4",
   "metadata": {},
   "outputs": [],
   "source": []
  }
 ],
 "metadata": {
  "kernelspec": {
   "display_name": "Python 3 (ipykernel)",
   "language": "python",
   "name": "python3"
  },
  "language_info": {
   "codemirror_mode": {
    "name": "ipython",
    "version": 3
   },
   "file_extension": ".py",
   "mimetype": "text/x-python",
   "name": "python",
   "nbconvert_exporter": "python",
   "pygments_lexer": "ipython3",
   "version": "3.10.4"
  }
 },
 "nbformat": 4,
 "nbformat_minor": 5
}
