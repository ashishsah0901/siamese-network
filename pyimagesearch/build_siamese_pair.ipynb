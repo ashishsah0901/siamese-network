{
 "cells": [
  {
   "cell_type": "code",
   "execution_count": 1,
   "id": "c1fd7c0b",
   "metadata": {},
   "outputs": [],
   "source": [
    "from tensorflow.keras.datasets import mnist\n",
    "from imutils import build_montages\n",
    "import numpy as np\n",
    "import cv2"
   ]
  },
  {
   "cell_type": "code",
   "execution_count": 2,
   "id": "f884195b",
   "metadata": {},
   "outputs": [],
   "source": [
    "def make_pairs(images, labels):\n",
    "    pairImages = []\n",
    "    pairLabels = []\n",
    "    numClasses = len(np.unique(labels))\n",
    "    idx = [np.where(labels == i)[0] for i in range(0, numClasses)]\n",
    "    for idxA in range(len(images)):\n",
    "        currentImage = images[idxA]\n",
    "        label = labels[idxA]\n",
    "        idxB = np.random.choice(idx[label])\n",
    "        posImage = images[idxB]\n",
    "        pairImages.append([currentImage, posImage])\n",
    "        pairLabels.append([1])\n",
    "        negIdx = np.where(labels != label)[0]\n",
    "        negImage = images[np.random.choice(negIdx)]\n",
    "        pairImages.append([currentImage, negImage])\n",
    "        pairLabels.append([0])\n",
    "    return (np.array(pairImages), np.array(pairLabels))"
   ]
  },
  {
   "cell_type": "code",
   "execution_count": 3,
   "id": "98c4b09a",
   "metadata": {},
   "outputs": [
    {
     "name": "stdout",
     "output_type": "stream",
     "text": [
      "[INFO] loading MNIST dataset...\n",
      "Downloading data from https://storage.googleapis.com/tensorflow/tf-keras-datasets/mnist.npz\n",
      "11490434/11490434 [==============================] - 7s 1us/step\n",
      "[INFO] preparing positive and negative pairs...\n"
     ]
    }
   ],
   "source": [
    "print(\"[INFO] loading MNIST dataset...\")\n",
    "(trainX, trainY), (testX, testY) = mnist.load_data()\n",
    "print(\"[INFO] preparing positive and negative pairs...\")\n",
    "(pairTrain, labelTrain) = make_pairs(trainX, trainY)\n",
    "(pairTest, labelTest) = make_pairs(testX, testY)"
   ]
  },
  {
   "cell_type": "code",
   "execution_count": 4,
   "id": "11168014",
   "metadata": {},
   "outputs": [
    {
     "data": {
      "text/plain": [
       "-1"
      ]
     },
     "execution_count": 4,
     "metadata": {},
     "output_type": "execute_result"
    }
   ],
   "source": [
    "images = []\n",
    "for i in np.random.choice(np.arange(0, len(pairTrain)), size=(49,)):\n",
    "    imageA = pairTrain[i][0]\n",
    "    imageB = pairTrain[i][1]\n",
    "    label = labelTrain[i]\n",
    "    output = np.zeros((36, 60), dtype=\"uint8\")\n",
    "    pair = np.hstack([imageA, imageB])\n",
    "    output[4:32, 0:56] = pair\n",
    "    text = \"neg\" if label[0] == 0 else \"pos\"\n",
    "    color = (0, 0, 255) if label[0] == 0 else (0, 255, 0)\n",
    "    vis = cv2.merge([output] * 3)\n",
    "    vis = cv2.resize(vis, (96, 51), interpolation=cv2.INTER_LINEAR)\n",
    "    cv2.putText(vis, text, (2, 12), cv2.FONT_HERSHEY_SIMPLEX, 0.75, color, 2)\n",
    "    images.append(vis)\n",
    "montage = build_montages(images, (96, 51), (7, 7))[0]\n",
    "cv2.imshow(\"Siamese Image Pairs\", montage)\n",
    "cv2.waitKey(0)"
   ]
  }
 ],
 "metadata": {
  "kernelspec": {
   "display_name": "Python 3 (ipykernel)",
   "language": "python",
   "name": "python3"
  },
  "language_info": {
   "codemirror_mode": {
    "name": "ipython",
    "version": 3
   },
   "file_extension": ".py",
   "mimetype": "text/x-python",
   "name": "python",
   "nbconvert_exporter": "python",
   "pygments_lexer": "ipython3",
   "version": "3.10.4"
  }
 },
 "nbformat": 4,
 "nbformat_minor": 5
}
