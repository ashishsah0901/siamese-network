{
 "cells": [
  {
   "cell_type": "code",
   "execution_count": 1,
   "id": "e974f8e4",
   "metadata": {},
   "outputs": [],
   "source": [
    "import ipynb.fs.full.config as config\n",
    "import ipynb.fs.full.utils as utils\n",
    "from tensorflow.keras.models import load_model\n",
    "from imutils.paths import list_images\n",
    "import matplotlib.pyplot as plt\n",
    "import numpy as np\n",
    "import argparse\n",
    "import cv2"
   ]
  },
  {
   "cell_type": "code",
   "execution_count": null,
   "id": "7355275b",
   "metadata": {},
   "outputs": [],
   "source": [
    "ap = argparse.ArgumentParser()\n",
    "ap.add_argument(\"-i\", \"--input\", required=True, help=\"path to input directory of testing images\")\n",
    "args = vars(ap.parse_args())"
   ]
  }
 ],
 "metadata": {
  "kernelspec": {
   "display_name": "Python 3 (ipykernel)",
   "language": "python",
   "name": "python3"
  },
  "language_info": {
   "codemirror_mode": {
    "name": "ipython",
    "version": 3
   },
   "file_extension": ".py",
   "mimetype": "text/x-python",
   "name": "python",
   "nbconvert_exporter": "python",
   "pygments_lexer": "ipython3",
   "version": "3.10.4"
  }
 },
 "nbformat": 4,
 "nbformat_minor": 5
}
